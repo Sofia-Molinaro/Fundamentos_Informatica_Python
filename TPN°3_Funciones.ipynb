{
  "cells": [
    {
      "cell_type": "markdown",
      "metadata": {
        "id": "view-in-github",
        "colab_type": "text"
      },
      "source": [
        "<a href=\"https://colab.research.google.com/github/Sofia-Molinaro/Fundamentos_Informatica_Python/blob/main/TPN%C2%B03_Funciones.ipynb\" target=\"_parent\"><img src=\"https://colab.research.google.com/assets/colab-badge.svg\" alt=\"Open In Colab\"/></a>"
      ]
    },
    {
      "cell_type": "markdown",
      "metadata": {
        "id": "7opUbDcOEIss"
      },
      "source": [
        "Hacer un programa que pida una dirección de email. Luego que devuelva el usuario y el dominio por separado."
      ]
    },
    {
      "cell_type": "code",
      "execution_count": null,
      "metadata": {
        "id": "DdpbnbOwOXaO"
      },
      "outputs": [],
      "source": [
        "email = str(input(\"Ingrese el email: \"))\n",
        "pos = email.find(\"@\")\n",
        "usuario = email[0:pos]\n",
        "dominio = email[pos+1:]\n",
        "\n",
        "print(\"El usuario del mail ingresado es: \",usuario, \"El dominio del mail ingresado es: \", dominio)"
      ]
    },
    {
      "cell_type": "code",
      "execution_count": null,
      "metadata": {
        "colab": {
          "base_uri": "https://localhost:8080/"
        },
        "id": "cJQLpv06EJO6",
        "outputId": "6330fc35-8c92-4079-b42a-7a2718ebe505"
      },
      "outputs": [
        {
          "name": "stdout",
          "output_type": "stream",
          "text": [
            "Ingrese el email: pablodiosquez@gmail.com\n",
            "El usuario del mail ingresado es: ('pablodiosquez', 'gmail.com')\n"
          ]
        }
      ],
      "source": [
        "def usuario_dominio(e):\n",
        "  \"\"\"\"Recibe un email, y retorna una tupla con\n",
        "  usuario y dominio.\n",
        "  \"\"\"\n",
        "  pos = e.find(\"@\")\n",
        "  usuario = e[0:pos]\n",
        "  dominio = e[pos+1:]\n",
        "  return usuario, dominio\n",
        "\n",
        "email = input(\"Ingrese el email: \")\n",
        "\n",
        "resultado = usuario_dominio(email)\n",
        "print(\"El usuario del mail ingresado es:\", resultado)"
      ]
    },
    {
      "cell_type": "markdown",
      "metadata": {
        "id": "jwJGuTEXTmaj"
      },
      "source": [
        "Ejercicio 1: Mencione los errores en los siguientes códigos:\n",
        "\n",
        "a) def suma(par1, par2):\n",
        "\n",
        "print(par1+par2)\n",
        "\n",
        " suma()\n",
        "\n",
        "b) def suma(par1, par2):\n",
        "\n",
        "print (par1 + par2)\n",
        "\n",
        " print(suma(12, 10))\n",
        "\n",
        "c) def suma(par1, par2):\n",
        "\n",
        "return (par1 + par2)\n",
        "\n",
        "suma(12, 10)\n",
        "\n",
        "d) def suma(par1):\n",
        "\n",
        "return (par1 + 2)\n",
        "\n",
        " suma(12, 10)"
      ]
    },
    {
      "cell_type": "code",
      "execution_count": null,
      "metadata": {
        "id": "LLZit77-PF1W"
      },
      "outputs": [],
      "source": [
        "\"El error en este caso es que en las secuencias está escrito print, cuando debería estar escrito de forma identada el 'return'. Además no se le dieron valores para que se realice la operación suma.\"\n",
        "def suma(par1, par2):\n",
        "\n",
        "print (par1 + par2)\n",
        "\n",
        "suma()"
      ]
    },
    {
      "cell_type": "code",
      "execution_count": null,
      "metadata": {
        "id": "rTP_UigdPqDs"
      },
      "outputs": [],
      "source": [
        "\"El error en este caso es que en las secuencias está escrito print, cuando debería estar escrito de forma identada el 'return'\"\n",
        "def suma(par1, par2):\n",
        "\n",
        "print (par1 + par2)\n",
        "\n",
        "print(suma(12, 10))"
      ]
    },
    {
      "cell_type": "code",
      "execution_count": null,
      "metadata": {
        "colab": {
          "base_uri": "https://localhost:8080/"
        },
        "id": "cttD07vkPqNi",
        "outputId": "a3c5c714-22b1-4269-9be5-8e92d2eeb0c9"
      },
      "outputs": [
        {
          "data": {
            "text/plain": [
              "22"
            ]
          },
          "execution_count": 7,
          "metadata": {},
          "output_type": "execute_result"
        }
      ],
      "source": [
        "\"El error en este caso es que no está correctamente identado el 'return' de la función \"\n",
        "def suma(par1, par2):\n",
        "\n",
        "return (par1 + par2)\n",
        "\n",
        "suma(12, 10)"
      ]
    },
    {
      "cell_type": "code",
      "execution_count": null,
      "metadata": {
        "id": "GTc3_C-KPuWL"
      },
      "outputs": [],
      "source": [
        "\"El error en este caso es que no está correctamente identado el 'return' de la función. Además se le atribuye dos valores a la suma, cuando deberia ir un valor según el parámetro de esta función \"\n",
        "def suma(par1):\n",
        "return (par1 + 2)\n",
        "\n",
        "suma(12, 10)"
      ]
    },
    {
      "cell_type": "markdown",
      "metadata": {
        "id": "zWTY1gOyTvQU"
      },
      "source": [
        "Ejercicio 2: Definir una función denominada imprimir_mensaje que imprima el siguiente mensaje en pantalla: “Estudiando Fundamentos de Informática en la UNAJ”\n",
        "\n"
      ]
    },
    {
      "cell_type": "code",
      "execution_count": null,
      "metadata": {
        "id": "b7YmIWvESJia",
        "colab": {
          "base_uri": "https://localhost:8080/"
        },
        "outputId": "205d1c7d-179a-46e7-c9e0-f51c96c78676"
      },
      "outputs": [
        {
          "output_type": "stream",
          "name": "stdout",
          "text": [
            "Estudiando Fundamentos de Informática en la UNAJ\n"
          ]
        }
      ],
      "source": [
        "def imprimir_mensaje(m):\n",
        "  print(m)\n",
        "\n",
        "mensaje = 'Estudiando Fundamentos de Informática en la UNAJ'\n",
        "\n",
        "imprimir_mensaje(mensaje)"
      ]
    },
    {
      "cell_type": "markdown",
      "metadata": {
        "id": "tBkh2XVbT0T6"
      },
      "source": [
        "Ejercicio 3: Definir una función denominada retorno_mensaje que retorne siguiente mensaje:\n",
        "\n",
        "“Estudiando Fundamentos de Informática en la UNAJ”.\n",
        "\n",
        "A. ¿Cómo hago para mostrar ese mensaje en pantalla?\n",
        "*Lo imprimo*\n",
        "\n",
        "B. ¿Qué diferencia encuentra con el ejercicio anterior?*La diferencia es que en el ejercicio anterior se imprime el mensaje, en este se retorna.*\n",
        "\n",
        "C. Si tuvieras que imprimir mensajes como “Estudiando Matemática I en la UNAJ“ y\n",
        "“Estudiando Python en la UNAJ” utilizando la misma función ¿Cómo la modificarías? "
      ]
    },
    {
      "cell_type": "code",
      "execution_count": null,
      "metadata": {
        "id": "T0yipS6ISJvy",
        "colab": {
          "base_uri": "https://localhost:8080/"
        },
        "outputId": "af88e13d-6f0a-4360-88ad-44c81f1ba624"
      },
      "outputs": [
        {
          "output_type": "stream",
          "name": "stdout",
          "text": [
            "Estudiando Fundamentos de Informática en la UNAJ\n",
            "Estudiando Python en la UNAJ\n",
            "Estoy estudiando Matemática I\n"
          ]
        }
      ],
      "source": [
        "def retorno_mensaje():\n",
        "  return \"Estudiando Fundamentos de Informática en la UNAJ\"  \n",
        "\n",
        "def retorno_mensaje2(m):\n",
        "  return m\n",
        "\n",
        "print(retorno_mensaje())\n",
        "\n",
        "m = 'Estoy estudiando Matemática I'\n",
        "\n",
        "print(retorno_mensaje2('Estudiando Python en la UNAJ'))\n",
        "print(retorno_mensaje2(m))"
      ]
    },
    {
      "cell_type": "markdown",
      "metadata": {
        "id": "rV9JJk29T5E6"
      },
      "source": [
        "Ejercicio 4: Definir una función denominada imprimo_fecha que reciba tres cadenas de caracteres que\n",
        "representan un día, un mes y un año e imprima la fecha de la siguiente manera: “ 21 de septiembre de\n",
        "2012”."
      ]
    },
    {
      "cell_type": "code",
      "execution_count": null,
      "metadata": {
        "id": "xtCuBAeNSYSq",
        "colab": {
          "base_uri": "https://localhost:8080/"
        },
        "outputId": "dc2dc290-e2c1-47f6-eaf9-2bcae79a7419"
      },
      "outputs": [
        {
          "output_type": "stream",
          "name": "stdout",
          "text": [
            "Ingrese el día: 24\n",
            "Ingrese el nombre del mes: agosto\n",
            "Ingrese el año: 1990\n",
            "24 de agosto de 1990\n"
          ]
        }
      ],
      "source": [
        "def  imprimo_fecha(d,m,a):\n",
        "  print(d+ \" de \" + m + \" de \" + a)\n",
        " \n",
        "dia = input(\"Ingrese el día: \")\n",
        "mes = input(\"Ingrese el nombre del mes: \")\n",
        "año = input(\"Ingrese el año: \")\n",
        "\n",
        "imprimo_fecha(dia, mes, año)"
      ]
    },
    {
      "cell_type": "markdown",
      "metadata": {
        "id": "vhLzDUImT8LT"
      },
      "source": [
        "Ejercicio 5: Definir una función denominada cuantos_dias que reciba el número de mes como\n",
        "parámetro y retorne la cantidad de días que posee. Ejemplo: cuantos_dias(1), debería retornar 31.\n",
        "\n",
        "Ayuda: Pensar en tener una lista de la siguiente manera: [[“enero”,31], [“febrero”, 28], ...]"
      ]
    },
    {
      "cell_type": "code",
      "execution_count": null,
      "metadata": {
        "id": "fpWuf5TDSYgK",
        "colab": {
          "base_uri": "https://localhost:8080/"
        },
        "outputId": "4e46b52a-e0e9-4885-c195-6569560658ce"
      },
      "outputs": [
        {
          "output_type": "stream",
          "name": "stdout",
          "text": [
            "Ingrese el número del mes: 3\n",
            "marzo tiene 31 días\n"
          ]
        }
      ],
      "source": [
        "def cuantos_dias(d):\n",
        "  m = [[\"enero\",31],[\"febrero\", 28], [\"marzo\",31], [\"abril\",30], [\"mayo\",31], [\"junio\",30], [\"julio\",31], [\"agosto\",31], [\"septiembre\",30], [\"octubre\",31], [\"noviembre\",30], [\"diciembre\",31]]\n",
        "  cantidad_dias = f'{m[d - 1][0]} tiene {m[d - 1][1]} días' \n",
        "  return cantidad_dias\n",
        "\n",
        "mes = int(input(\"Ingrese el número del mes: \"))\n",
        "resultado = cuantos_dias(mes)\n",
        "\n",
        "print(resultado)"
      ]
    },
    {
      "cell_type": "markdown",
      "metadata": {
        "id": "dv0crZ2AUBlr"
      },
      "source": [
        "Ejercicio 6: Definir una función que reciba un número como parámetro y mostrar la tabla de\n",
        "multiplicar de dicho número."
      ]
    },
    {
      "cell_type": "code",
      "execution_count": null,
      "metadata": {
        "id": "qg3VN-XrSYjq"
      },
      "outputs": [],
      "source": [
        "def multiplicacion(x):\n",
        "  multiplicar = [[x * 1], [x * 2], [x * 3], [x * 4], [x * 5], [x * 6], [x * 7], [x * 8], [x * 9], [x * 10]]\n",
        "  return multiplicar\n",
        "\n",
        "num = int(input(\"Ingrese un número: \"))\n",
        "resultado = multiplicacion(num)\n",
        "\n",
        "print(\"La tabla de multiplicar del número ingresado es: \" + str(resultado))"
      ]
    },
    {
      "cell_type": "code",
      "source": [
        "def tabla(n):\n",
        "  for i  in range(1,11):\n",
        "    print(f'{n} x {i} = {n*i}')\n",
        "\n",
        "tabla(3)"
      ],
      "metadata": {
        "colab": {
          "base_uri": "https://localhost:8080/"
        },
        "id": "p5SfstgA29OD",
        "outputId": "814bf0f1-0141-41f8-9a4c-1dc1cb66056a"
      },
      "execution_count": null,
      "outputs": [
        {
          "output_type": "stream",
          "name": "stdout",
          "text": [
            "3 x 1 = 3\n",
            "3 x 2 = 6\n",
            "3 x 3 = 9\n",
            "3 x 4 = 12\n",
            "3 x 5 = 15\n",
            "3 x 6 = 18\n",
            "3 x 7 = 21\n",
            "3 x 8 = 24\n",
            "3 x 9 = 27\n",
            "3 x 10 = 30\n"
          ]
        }
      ]
    },
    {
      "cell_type": "markdown",
      "metadata": {
        "id": "0qpKKQPNUDIL"
      },
      "source": [
        "Ejercicio 7: Definir una función que calcule el área de un círculo, otra que calcule el área de un\n",
        "rectángulo y otra que calcule el área de un triángulo. Analice qué parámetros deberían recibir dichas\n",
        "funciones."
      ]
    },
    {
      "cell_type": "code",
      "execution_count": null,
      "metadata": {
        "id": "yrlTI4QaSYrq"
      },
      "outputs": [],
      "source": [
        "import math \n",
        "def area_circulo(r):\n",
        "  area_cir = 2 * math.pi * r\n",
        "  return area_cir\n",
        "\n",
        "def area_rectangulo(b, h):\n",
        "  area_rec = b * h\n",
        "  return area_rec\n",
        "\n",
        "def area_triangulo(b, h):\n",
        "  area_tri = (b * h) / 2\n",
        "  return area_tri\n",
        "\n",
        "radio = float(input(\"Ingrese el radio del circulo: \"))\n",
        "resultado1 = area_circulo(radio)\n",
        "\n",
        "base = float(input(\"Ingrese la base del reactángulo: \"))\n",
        "altura = float(input(\"Ingrese la altura del rectángulo: \"))\n",
        "resultado2 = area_rectangulo(base, altura)\n",
        "\n",
        "base2 = float(input(\"Ingrese la base del triángulo es: \"))\n",
        "altura2 = float(input(\"Ingrese la altura del triángulo es: \"))\n",
        "resultado3 = area_triangulo(base2,altura2)\n",
        "\n",
        "print(\"El área del círculo es: \" + str(resultado1) + \"El área del rectángulo es: \" + str(resultado2) + \"El área del triángulo es: \" + str(resultado3))"
      ]
    },
    {
      "cell_type": "markdown",
      "metadata": {
        "id": "pZYaYHeZUG_S"
      },
      "source": [
        "Ejercicio 9: Definir una función llamada calculo_nuevo_precio que reciba dos números, uno con el\n",
        "precio anterior y otro con el número de porcentaje a aumentar y devuelva el precio aumentado. "
      ]
    },
    {
      "cell_type": "code",
      "execution_count": null,
      "metadata": {
        "id": "MsUhqISUSYuy"
      },
      "outputs": [],
      "source": [
        "def calculo_nuevo_precio(x, y):\n",
        "  y = x * (y / 100) + x\n",
        "  return y\n",
        "\n",
        "precio_anterior = float(input(\"Ingrese el precio anterior: \"))\n",
        "aumento = float(input(\"Ingrese el porcentaje de aumento: \"))\n",
        "resultado = calculo_nuevo_precio(precio_anterior, aumento)\n",
        "\n",
        "print(\"El precio aumentado es: \" + str(resultado) + \"%\")"
      ]
    },
    {
      "cell_type": "markdown",
      "metadata": {
        "id": "A1iNDTg4UKwL"
      },
      "source": [
        "Ejercicio 10: Definir una función llamada calculo_transporte que reciba cuatro números: la cantidad\n",
        "de alumnos de 1era, 2da y 3er. salita de un jardín de infantes y la cantidad de asientos del transporte\n",
        "escolar. La función debe retornar cuántos micros necesito contratar para una excursión sabiendo que\n",
        "cada salita es acompañada por tres adultos."
      ]
    },
    {
      "cell_type": "code",
      "source": [
        "def calculo_transporte(p,s,t,a):\n",
        "  cantidad_asientos = (p + s + t + 9) // a\n",
        "  if (p + s + t + 9) % a == 0:   # pongo esta condición ya para que siempre me redondée para arriba y no queden chicos sin subir al micro. (por ejemplo: si el total de chicos es 30, y la cantidad de asientos es 24 ... necesito 2 micros)\n",
        "    return cantidad_asientos\n",
        "  return cantidad_asientos + 1 \n",
        "\n",
        "primera = int(input(\"Ingrese la cantidad de alumnos de la primera salita de un jardín de infantes: \"))\n",
        "segunda = int(input(\"Ingrese la cantidad de alumnos de la segunda salita de un jardín de infantes: \"))\n",
        "tercera = int(input(\"Ingrese la cantidad de alumnos de la tercera salita de un jardín de infantes: \"))\n",
        "asientos = int(input(\"Ingrese la cantidad de asientos del transporte escolar: \"))\n",
        "resultado = calculo_transporte(primera, segunda, tercera, asientos)\n",
        "\n",
        "print(\"La cantidad de micros que necesito contratar es: \" + str(resultado))"
      ],
      "metadata": {
        "id": "7PoO9QPD2ec5",
        "colab": {
          "base_uri": "https://localhost:8080/"
        },
        "outputId": "208e620d-2e90-4871-a090-3058eb8a54a6"
      },
      "execution_count": null,
      "outputs": [
        {
          "output_type": "stream",
          "name": "stdout",
          "text": [
            "Ingrese la cantidad de alumnos de la primera salita de un jardín de infantes: 20\n",
            "Ingrese la cantidad de alumnos de la segunda salita de un jardín de infantes: 5\n",
            "Ingrese la cantidad de alumnos de la tercera salita de un jardín de infantes: 5\n",
            "Ingrese la cantidad de asientos del transporte escolar: 28\n",
            "La cantidad de micros que necesito contratar es: 2\n"
          ]
        }
      ]
    },
    {
      "cell_type": "markdown",
      "metadata": {
        "id": "EId-R0btTUsj"
      },
      "source": [
        "Ejercicio 11: Definir una función llamada armo_cartel que reciba una cadena de caracteres (para el\n",
        "nombre del producto) y dos números (el precio anterior y el otro para el precio rebajado) e imprima un\n",
        "cartel de la siguiente forma:\n",
        "*************************************\n",
        "Atención!!! Gran rebaja para el producto nombre (recibido como parámetro)\n",
        "\n",
        "Antes: precio anterior (dato recibido como parámetro)\n",
        "\n",
        "Ahora: precio rebajado (dato recibido como parámetro) "
      ]
    },
    {
      "cell_type": "code",
      "execution_count": null,
      "metadata": {
        "id": "gEpHsdcFTQfp",
        "colab": {
          "base_uri": "https://localhost:8080/"
        },
        "outputId": "41495080-5085-40db-f844-742abbf9a4a9"
      },
      "outputs": [
        {
          "output_type": "stream",
          "name": "stdout",
          "text": [
            "Ingrese el nombre del producto: hola\n",
            "Ingrese el precio anterior: 2\n",
            "Ingrese el precio rebajado: 1\n",
            "Atención!!! Gran rebaja para el producto nombrehola\n",
            "Antes: precio anterior2.0\n",
            "Ahora: precio rebajado1.0\n"
          ]
        },
        {
          "output_type": "execute_result",
          "data": {
            "text/plain": [
              "('hola', 2.0, 1.0)"
            ]
          },
          "metadata": {},
          "execution_count": 4
        }
      ],
      "source": [
        "def armo_cartel(n,a,r):\n",
        "  print(\"Atención!!! Gran rebaja para el producto nombre\" + str(nombre))\n",
        "  print(\"Antes: precio anterior\" + str(precio_antes))\n",
        "  print(\"Ahora: precio rebajado\" + str(precio_rebajado))\n",
        "  return n,a,r\n",
        "\n",
        "nombre = str(input(\"Ingrese el nombre del producto: \"))\n",
        "precio_antes =  float(input(\"Ingrese el precio anterior: \"))\n",
        "precio_rebajado = float(input(\"Ingrese el precio rebajado: \"))\n",
        "\n",
        "armo_cartel(nombre, precio_antes, precio_rebajado)"
      ]
    },
    {
      "cell_type": "markdown",
      "metadata": {
        "id": "LlwkcHCfUSoC"
      },
      "source": [
        "Ejercicio 12: Definir una función llamada calculo_litros que reciba tres números, el alto, ancho y\n",
        "profundidad (en metros) de una pileta y devuelva la cantidad de litros que tiene."
      ]
    },
    {
      "cell_type": "code",
      "execution_count": null,
      "metadata": {
        "id": "hGdWMMl0USwL"
      },
      "outputs": [],
      "source": [
        "def calculo_litros(al,an,p):\n",
        "  cantidad_litros = al * an * p\n",
        "  print(\"La cantidad de litros que tiene esta pileta es de: \"+ str(cantidad_litros) +\" m3. \")\n",
        "  return cantidad_litros\n",
        "\n",
        "alto = float(input(\"Ingrese el alto en metros de la pileta: \"))\n",
        "ancho = float(input(\"Ingrese el ancho en metros de la pileta: \"))\n",
        "profundidad = float(input(\"Ingrese la profundidad en metros de la pileta: \"))\n",
        "\n",
        "calculo_litros(alto, ancho, profundidad)"
      ]
    },
    {
      "cell_type": "markdown",
      "metadata": {
        "id": "ZoAgUM3pUS28"
      },
      "source": [
        "Ejercicio 13: Definir una función llamada a_pagar que reciba 4 números: la cantidad de personas, el\n",
        "monto gastado en bebida, el monto gastado en comida y el del alquiler del lugar, y retorne cuánto le\n",
        "toca pagar a cada uno"
      ]
    },
    {
      "cell_type": "code",
      "execution_count": null,
      "metadata": {
        "id": "OruF3a8FUS-D",
        "colab": {
          "base_uri": "https://localhost:8080/"
        },
        "outputId": "e932ff47-5a9a-4f95-d22e-6736b20aebd6"
      },
      "outputs": [
        {
          "output_type": "stream",
          "name": "stdout",
          "text": [
            "Ingrese la cantidad de personas: 2\n",
            "Ingrese el monto gastado en bebidas: 2\n",
            "Ingrese el monto gastado en comida: 2\n",
            "Ingrese el monto gastado en el alquiler del lugar: 2\n",
            "El monto a pagar por persona es de: $ \n"
          ]
        },
        {
          "output_type": "execute_result",
          "data": {
            "text/plain": [
              "3.0"
            ]
          },
          "metadata": {},
          "execution_count": 11
        }
      ],
      "source": [
        "def a_pagar(c,mb,mc,a):\n",
        "  pagar_por_persona = (mb + mc + a) / c\n",
        "  print(\"El monto a pagar por persona es de: $ \")\n",
        "  return pagar_por_persona\n",
        "\n",
        "cantidad_personas = int(input(\"Ingrese la cantidad de personas: \"))\n",
        "monto_bebidas = float(input(\"Ingrese el monto gastado en bebidas: \"))\n",
        "monto_comida = float(input(\"Ingrese el monto gastado en comida: \"))\n",
        "alquiler = float(input(\"Ingrese el monto gastado en el alquiler del lugar: \"))\n",
        "\n",
        "a_pagar(cantidad_personas, monto_bebidas, monto_comida, alquiler)"
      ]
    },
    {
      "cell_type": "markdown",
      "metadata": {
        "id": "7v88Obi0UTFk"
      },
      "source": [
        "Ejercicio 14: Definir tres funciones llamadas convertir_a_dolar, convertir_a_euro y\n",
        "convertir_a_real. Cada función recibe un parámetro que representa un monto en pesos y devuelve su\n",
        "conversión respectiva.\n"
      ]
    },
    {
      "cell_type": "code",
      "execution_count": null,
      "metadata": {
        "id": "bUcQgB0XUTLb"
      },
      "outputs": [],
      "source": [
        "def convertir_a_dolar(d, p):\n",
        "  d = p / d\n",
        "  return d\n",
        "\n",
        "def convertir_a_euro(e, p):\n",
        "  e =  p / e\n",
        "  return e\n",
        "\n",
        "def convertir_a_real(r, p):\n",
        "  r = p/ r\n",
        "  return r\n",
        "\n",
        "pesos = float(input(\"Ingrese el monto en pesos: \"))\n",
        "\n",
        "dolar = 307\n",
        "dolares = convertir_a_dolar(dolar, pesos)\n",
        "\n",
        "euro = 296\n",
        "euros = convertir_a_euro(euro, pesos)\n",
        "\n",
        "real = 30\n",
        "reales = convertir_a_real(real, pesos)\n",
        "\n",
        "print(\"El monto de pesos en dólares es de: US$\"+ str(dolares))\n",
        "print(\"El monto de pesos en euros es de: €$\" + str(euros))\n",
        "print(\"El monto de pesos en reales es de: R$\" + str(reales))"
      ]
    },
    {
      "cell_type": "markdown",
      "metadata": {
        "id": "34XeyxYJUafj"
      },
      "source": [
        "Ejercicio 15: Definir una función llamada calculo_dosis que reciba tres números. Uno para la cantidad\n",
        "de días que debe suministrarse el remedio, el segundo dato para la cantidad de veces por día que debe\n",
        "tomarlo, y el último dato para la cantidad de comprimidos que trae el envase. La función debe devolver\n",
        "verdadero si el envase alcanza para ese tratamiento y falso si no alcanza."
      ]
    },
    {
      "cell_type": "code",
      "execution_count": null,
      "metadata": {
        "id": "aSEU-iHKUasT",
        "colab": {
          "base_uri": "https://localhost:8080/"
        },
        "outputId": "813d5070-9053-451e-a7eb-f91546eda480"
      },
      "outputs": [
        {
          "output_type": "stream",
          "name": "stdout",
          "text": [
            "Ingrese la cantidad de días que debe suministrarse el remedio: 3\n",
            "Ingrese la cantidad de veces por días que debe tomarse el remedio: 2\n",
            "Ingrese la cantidad comprimidos que trae el envase: 1\n",
            "No alcanza el envase de remedios para realizar el tratamiento\n"
          ]
        }
      ],
      "source": [
        "def calculo_dosis(dias,dosis,envase):\n",
        "  total = dias * dosis \n",
        "  if  envase >= total:\n",
        "    return True\n",
        "  return False\n",
        "\n",
        "dias = int(input(\"Ingrese la cantidad de días que debe suministrarse el remedio: \"))\n",
        "a_tomar = int(input(\"Ingrese la cantidad de veces por días que debe tomarse el remedio: \"))\n",
        "cantidad_por_envase = int(input(\"Ingrese la cantidad comprimidos que trae el envase: \"))\n",
        "\n",
        "if calculo_dosis(dias,a_tomar,cantidad_por_envase):\n",
        "  texto = \"El envase de remedios alcanza para realizar el tratamiento\"\n",
        "else:\n",
        "  texto = \"No alcanza el envase de remedios para realizar el tratamiento\"\n",
        "print(texto)"
      ]
    },
    {
      "cell_type": "code",
      "source": [
        "def dosis(d,c,e):\n",
        "  if e - d*c > 0:\n",
        "    return True\n",
        "  return False\n",
        "\n",
        "\n",
        "dias = int(input(\"Ingrese la cantidad de días que debe suministrarse el remedio: \"))\n",
        "a_tomar = int(input(\"Ingrese la cantidad de veces por días que debe tomarse el remedio: \"))\n",
        "cantidad_por_envase = int(input(\"Ingrese la cantidad comprimidos que trae el envase: \"))\n",
        "\n",
        "if dosis(dias,a_tomar,cantidad_por_envase):\n",
        "  print(\"El envase de remedios alcanza para realizar el tratamiento\")\n",
        "else:\n",
        "  print(\"No alcanza el envase de remedios para realizar el tratamiento\")"
      ],
      "metadata": {
        "id": "mRyNVukNK3ed"
      },
      "execution_count": null,
      "outputs": []
    },
    {
      "cell_type": "markdown",
      "metadata": {
        "id": "rVdtdNxDUdN7"
      },
      "source": [
        "Ejercicio 16: Definir una función llamada precio_con_iva que agrega el IVA (21%) de un producto\n",
        "dado su precio de venta sin IVA.\n"
      ]
    },
    {
      "cell_type": "code",
      "execution_count": null,
      "metadata": {
        "id": "mSM0Yp1wUdWT"
      },
      "outputs": [],
      "source": [
        "def precio_con_iva(i):\n",
        "  i = i * 0,21 + i\n",
        "  return i\n",
        "\n",
        "precio = float(input(\"Ingrese el precio de un producto sin IVA: $ \"))\n",
        "resultado = precio_con_iva(precio)\n",
        "\n",
        "print(\"El precio con IVA es: $ \" + str(resultado))"
      ]
    }
  ],
  "metadata": {
    "colab": {
      "provenance": [],
      "include_colab_link": true
    },
    "kernelspec": {
      "display_name": "Python 3",
      "name": "python3"
    },
    "language_info": {
      "name": "python"
    }
  },
  "nbformat": 4,
  "nbformat_minor": 0
}