{
  "cells": [
    {
      "cell_type": "markdown",
      "metadata": {
        "id": "view-in-github",
        "colab_type": "text"
      },
      "source": [
        "<a href=\"https://colab.research.google.com/github/Sofia-Molinaro/Fundamentos_Informatica_Python/blob/main/TP5.ipynb\" target=\"_parent\"><img src=\"https://colab.research.google.com/assets/colab-badge.svg\" alt=\"Open In Colab\"/></a>"
      ]
    },
    {
      "cell_type": "markdown",
      "metadata": {
        "id": "iMhtMfBvXw0R"
      },
      "source": [
        "Ejercicio 1: Escribir un programa que muestre la tabla de multiplicar de un número\n",
        "introducido por teclado por el usuario."
      ]
    },
    {
      "cell_type": "code",
      "execution_count": null,
      "metadata": {
        "id": "uakiA9p0fmel"
      },
      "outputs": [],
      "source": [
        "numero = int(input(\"Ingrese un número: \"))\n",
        "for i in range (1,11):\n",
        "  print(numero * i)"
      ]
    },
    {
      "cell_type": "markdown",
      "metadata": {
        "id": "ohpgeSQIX8cU"
      },
      "source": [
        "Ejercicio 2: Escribir un programa que calcule la sumatoria desde 0 hasta m, donde m es\n",
        "un número introducido por el usuario desde el teclado."
      ]
    },
    {
      "cell_type": "code",
      "execution_count": null,
      "metadata": {
        "id": "PmEdXoX5knFE"
      },
      "outputs": [],
      "source": [
        "m = int(input(\"Ingrese un número: \"))\n",
        "for i in range(0, m):\n",
        "  suma = m + i\n",
        "print(\"La suma es: \", suma)"
      ]
    },
    {
      "cell_type": "markdown",
      "metadata": {
        "id": "5swAcsxdX_YN"
      },
      "source": [
        "Ejercicio 3: Escribir un programa que muestre la tabla de los códigos ASCII. Los códigos\n",
        "ASCII van de 0 a 255"
      ]
    },
    {
      "cell_type": "code",
      "execution_count": null,
      "metadata": {
        "id": "UXIDv6QNQ5pU"
      },
      "outputs": [],
      "source": [
        "for i in range(0, 255):\n",
        "  print(str(i)+ \" = \" + chr(i))  #uno \"str\" porque representa una cadena de caracteres, luego la concateno a un \"chr\" (variable que me devuelve una cadena que contiene el carácter asociado a un código de la tabla ASCII)"
      ]
    },
    {
      "cell_type": "markdown",
      "metadata": {
        "id": "eP0xH67NYCCg"
      },
      "source": [
        "Ejercicio 4: Escribir un programa que lea letras del teclado indefinidamente hasta que el\n",
        "usuario ingrese “fin” e imprima el código ASCII de las mismas."
      ]
    },
    {
      "cell_type": "code",
      "execution_count": null,
      "metadata": {
        "id": "phEfeIgHt8rk"
      },
      "outputs": [],
      "source": [
        "\"\"\"Imprime un código ASCII correspondiente a la letra del teclado ingresada\"\"\"\n",
        "# codigo = input(\"Ingrese una letra del teclado: \")\n",
        "# while codigo != str(\"fin\"):\n",
        "#   print(ord(codigo))\n",
        "#   codigo = input(\"Ingrese una letra del teclado: \")\n",
        "\n",
        "cod = input('Ingrese un caracter: ')\n",
        "while cod != 'fin':\n",
        "  try:\n",
        "    print(ord(cod))\n",
        "  except:\n",
        "    print('Algo salió mal.')\n",
        "  cod = input('Ingrese un número: ')\n"
      ]
    },
    {
      "cell_type": "markdown",
      "metadata": {
        "id": "vc6UnanYYHXt"
      },
      "source": [
        "Ejercicio 5: Escribir un programa que calcule el promedio de N números ingresados por el\n",
        "usuario. (AYUDA: al comenzar el programa debe preguntar la cantidad de números a\n",
        "ingresar, luego iterar y leer tantos números del teclado como se indicó al inicio.)"
      ]
    },
    {
      "cell_type": "code",
      "execution_count": null,
      "metadata": {
        "id": "8uanReWvwytq"
      },
      "outputs": [],
      "source": [
        "cant = int(input(\"Ingrese la cantidad de números ingresados: \"))\n",
        "cont = 0\n",
        "for i in range(cant):\n",
        "  numero = float(input(\"Ingrese un número: \"))\n",
        "  cont = cont + numero \n",
        "\n",
        "promedio = cont / cant\n",
        "print(\"El promedio de los números ingresados es: \" + str(promedio))"
      ]
    },
    {
      "cell_type": "markdown",
      "metadata": {
        "id": "P7V8amzuYFqQ"
      },
      "source": [
        "Ejercicio 6: Escriba un programa que lea nombres de personas hasta que se ingrese el\n",
        "nombre “zzz”. Debe imprimir la cantidad de nombres que comienzan con “A”."
      ]
    },
    {
      "cell_type": "code",
      "execution_count": null,
      "metadata": {
        "id": "tIH-8jTDy6nJ"
      },
      "outputs": [],
      "source": [
        "nombre = str(input(\"Ingrese un nombre de persona: \"))\n",
        "contA = 0\n",
        "inicial = nombre[0]\n",
        "while nombre != \"zzz\":\n",
        "  if inicial == \"A\":\n",
        "    contA += 1\n",
        "  nombre = str(input(\"Ingrese un nombre de persona: \"))\n",
        "print(\"La cantidad de nombres que empiezan con A son: \"+ str(contA))"
      ]
    },
    {
      "cell_type": "markdown",
      "metadata": {
        "id": "NfApSxWRY21e"
      },
      "source": [
        "Ejercicio 7: Escriba un programa que lea números de documentos de identidad de\n",
        "personas hasta que se ingrese el número “999”. Debe imprimir la cantidad de números de\n",
        "documentos menores que 20.000.000."
      ]
    },
    {
      "cell_type": "code",
      "execution_count": null,
      "metadata": {
        "id": "vI4e0ATXhn2V"
      },
      "outputs": [],
      "source": [
        "dni = int(input(\"Ingrese el número de D.N.I. sin puntos: \"))\n",
        "cont = 0\n",
        "while dni != 999:  \n",
        "  if dni < 20000000:\n",
        "    cont += 1\n",
        "  dni = int(input(\"Ingrese el número de D.N.I. sin puntos: \"))\n",
        "resultado = print(\"La cantidad de números de documentos menores que 20000000: \" + str(cont))  \n"
      ]
    },
    {
      "cell_type": "markdown",
      "metadata": {
        "id": "iKWMh7Quapke"
      },
      "source": [
        "Ejercicio 8: Escriba un programa que reciba del usuario su nombre, apellido y patente\n",
        "hasta que ingrese AAA, e imprima si está exento de impuesto o no. Tener en cuenta que\n",
        "los autos cuyas patentes empiezan con R, S y T no deben pagar impuesto."
      ]
    },
    {
      "cell_type": "code",
      "execution_count": null,
      "metadata": {
        "id": "KnPTvM6XrD_m"
      },
      "outputs": [],
      "source": [
        "nombre =input(\"Ingrese el nombre: \")\n",
        "apellido = input(\"Ingrese el apellido: \")\n",
        "patente = input(\"Ingrese la patente en mayúscula: \")\n",
        "while patente != \"AAA\":\n",
        "  inicial = patente[0]\n",
        "  if inicial == \"R\":\n",
        "    print(\"Está exento de impuestos.\")\n",
        "  elif inicial == \"S\":\n",
        "    print(\"Está exento de impuestos.\")\n",
        "  elif inicial == \"T\":\n",
        "    print(\"Está exento de impuestos.\")\n",
        "  else: \n",
        "    print(\"No está exento de impuestos.\")\n",
        "  nombre =input(\"Ingrese el nombre: \")\n",
        "  apellido = input(\"Ingrese el apellido: \")\n",
        "  patente = input(\"Ingrese la patente en mayúscula: \")"
      ]
    },
    {
      "cell_type": "markdown",
      "metadata": {
        "id": "Lt4sSMYKasZG"
      },
      "source": [
        "Ejercicio 9: Escriba un programa que solicite códigos postales de localidades e imprima si\n",
        "esa localidad es La Plata, Florencio Varela u otra. Recordar que el código postal de La\n",
        "Plata es 1900 y el de Florencia Varela es: 1887. El programa termina cuando se ingresa el\n",
        "código postal 0."
      ]
    },
    {
      "cell_type": "code",
      "execution_count": null,
      "metadata": {
        "id": "p51VI3t8Cm5L"
      },
      "outputs": [],
      "source": [
        "def localidades(cod):\n",
        "  localidades = {\n",
        "      1877:'Don Bosco',\n",
        "      1875:'Wilde',\n",
        "      1870:'Bernal',\n",
        "      1879:'Quilmes',\n",
        "      1887:'Florencio Varela',\n",
        "      1900:'La Plata',\n",
        "  }\n",
        "  try:\n",
        "    return localidades[cod]\n",
        "  except:\n",
        "    return 'Código NO válido'\n",
        "\n",
        "#Función principal \n",
        "def main():\n",
        "  while True:\n",
        "    cod = int(input(\"Ingrese el código postal de la localidad: \"))\n",
        "    if cod == 0: break\n",
        "    print(localidades(cod))\n",
        "\n",
        "main()"
      ]
    },
    {
      "cell_type": "markdown",
      "metadata": {
        "id": "n9YZq9JRavUm"
      },
      "source": [
        "Ejercicio 10​: Definir una función que imprima los primeros cien números enteros. ¿Se le\n",
        "ocurre otra forma de hacerlo?"
      ]
    },
    {
      "cell_type": "code",
      "execution_count": null,
      "metadata": {
        "id": "pYtvpe2Lq-cx"
      },
      "outputs": [],
      "source": [
        "def num_enteros(n):\n",
        "  for i in range(0,101):\n",
        "    print(i) \n",
        "    \n",
        "print(\"Los primeros cien números enteros son:\")\n",
        "num_enteros(i)"
      ]
    },
    {
      "cell_type": "markdown",
      "metadata": {
        "id": "14WTjRb5axwC"
      },
      "source": [
        "Ejercicio 11​: Implementar una función que muestre todos los múltiplos de n entre n y m ·\n",
        "n, ambos inclusive, donde n y m son parámetros de la función."
      ]
    },
    {
      "cell_type": "code",
      "execution_count": null,
      "metadata": {
        "id": "UoXIu13ea1jA"
      },
      "outputs": [],
      "source": [
        "def multiplos(m, n):\n",
        "  for i in range(11):\n",
        "    resultado = i * m\n",
        "    resultado2 = i * n\n",
        "    print(resultado, resultado2)\n",
        "\n",
        "num1 = int(input(\"Ingrese un número: \"))\n",
        "num2 = int(input(\"Ingrese otro número: \"))\n",
        "\n",
        "multiplos(num1, num2)"
      ]
    },
    {
      "cell_type": "markdown",
      "metadata": {
        "id": "p63aij_WA-0r"
      },
      "source": [
        "Ejercicio 12: Dada la siguiente lista [1, 14, 56, 43, 23, 46, 58, 123, 67 ] escribir un\n",
        "programa que muestre el número más alto.\n",
        "\n"
      ]
    },
    {
      "cell_type": "code",
      "execution_count": null,
      "metadata": {
        "id": "d1HGG54lrBbv"
      },
      "outputs": [],
      "source": [
        "lista = [1, 14, 56, 43, 23, 46, 58, 123, 67]\n",
        "mayor = lista[0]\n",
        "\n",
        "# for i in range(0, len(lista)):\n",
        "#   if lista[i] > mayor:\n",
        "#     mayor = lista[i]\n",
        "#     if lista [i+1] > mayor:\n",
        "#       mayor = lista[i+1]\n",
        "#       if lista [i+2] > mayor:\n",
        "#         mayor = lista[i+2]\n",
        "# print(\"El mayor número de la lista es: \" + str(mayor)) \n",
        "\n",
        "def mayorLista(lista):\n",
        "  \"\"\"Recibe una lista de números y retorna el máximo.\"\"\"\n",
        "  mayor = lista[0]\n",
        "  for e in lista:\n",
        "    if e > mayor:\n",
        "      mayor = e\n",
        "  return mayor \n",
        "\n",
        "L = [1, 14, 56, 43, 23, 46, 58, 123, 67]\n",
        "print(f'El máximo de la lista {L} es {mayorLista(L)}')"
      ]
    },
    {
      "cell_type": "markdown",
      "metadata": {
        "id": "H5TIfIG2a5yS"
      },
      "source": [
        "Ejercicio 13: Escriba un programa que solicite nombres de localidades y códigos postales\n",
        "al usuario hasta que se ingresa el código postal 0. Debe generar una lista con todos los\n",
        "valores ingresados e imprimirla."
      ]
    },
    {
      "cell_type": "code",
      "execution_count": null,
      "metadata": {
        "id": "_8LRnz05rCfB"
      },
      "outputs": [],
      "source": [
        "lista = []\n",
        "localidad = str(input(\"Ingrese el nombre de la localidad: \"))\n",
        "lista.append(localidad)\n",
        "codigo = int(input(\"Ingrese el código postal: \"))\n",
        "lista.append(codigo)\n",
        " \n",
        "while codigo != 0: \n",
        "  localidad = str(input(\"Ingrese el nombre de la localidad: \"))\n",
        "  lista.append(localidad)\n",
        "  codigo = int(input(\"Ingrese el código postal: \"))\n",
        "  lista.append(codigo)\n",
        " \n",
        "print(lista)"
      ]
    },
    {
      "cell_type": "markdown",
      "metadata": {
        "id": "TNH_0Gvta85Q"
      },
      "source": [
        "Ejercicio 14: ​Realice un programa para manejar equipos de fútbol.\n",
        "\n",
        "a) Definir una función que arme una lista con la información de los equipos. De cada\n",
        "equipo se quiere guardar el nombre del equipo, puntaje en la tabla de posiciones y la\n",
        "cantidad de goles a favor. El ingreso finaliza cuando se lee el nombre del equipo igual\n",
        "a ‘ZZZ’.\n",
        "\n",
        "b) Usando la lista anterior, imprimir la cantidad de goles a favor que tienen los equipos\n",
        "que están en la primera y última posición de la lista.\n",
        "\n",
        "c) ​Imprimir el nombre del equipo Campeón de la lista del ejercicio anterior.\n"
      ]
    },
    {
      "cell_type": "code",
      "source": [
        "#equipos =[equipo, puntaje, goles]\n",
        "equipos = ([\"Independiente\", 50, 30],[\"River\", 30, 20],[\"Racing\", 20, 10],[\"Boca\", 10, 5])\n",
        "\n",
        "def goles(equipos):\n",
        "  equipo_goleador = equipos[0][2]\n",
        "  equipo_menos_goles = equipos[-1][2]\n",
        "  return equipo_goleador, equipo_menos_goles\n",
        "\n",
        "def campeon(equipos):\n",
        "  if equipos != []:\n",
        "    primer_equipo = equipos[0][0]\n",
        "  else:\n",
        "    primer_equipo = print(\"Se desconoce\")\n",
        "    return primer_equipo\n",
        "\n",
        "def main():\n",
        "  print(\"La cantidad de goles a favor que tienen los equipos que están en la primera y última posición, respectivamente, es: \", goles(equipos))\n",
        "  print(\"El campeón es: \", campeon(equipos))\n",
        "\n",
        "main()"
      ],
      "metadata": {
        "id": "kMrl8C3GP_c-"
      },
      "execution_count": null,
      "outputs": []
    },
    {
      "cell_type": "code",
      "source": [
        "def crear_equipo(nombre,puntaje,goles):\n",
        "  return nombre,puntaje,goles\n",
        "\n",
        "def crear_lista_equipos():\n",
        "  equipos = []\n",
        "  while True:\n",
        "    nombre = input('Nombre: ')\n",
        "    if nombre == 'ZZZ':\n",
        "      break\n",
        "    puntaje = int(input('Puntaje: '))\n",
        "    goles = int(input('Goles: '))\n",
        "    # equipo = crear_equipo(nombre,puntaje,goles)\n",
        "    # equipos.append(equipo)\n",
        "    equipos.append(crear_equipo(nombre,puntaje,goles))  \n",
        "    return equipos\n",
        "\n",
        "def goles(equipos): \n",
        "  suma = 0\n",
        "  equipo = equipos[0]\n",
        "  for equipo in equipos:\n",
        "    if equipo[2]:\n",
        "      suma += equipo[2]\n",
        "      return equipo\n",
        "\n",
        "  #primer_equipo = equipos[0]\n",
        "  #ultimo_equipo = equipos[-1]\n",
        "  #return primer_equipo[2], ultimo_equipo[2]\n",
        "\n",
        "def campeon(equipos):\n",
        "  equipo_ganador = 0\n",
        "  for equipo in equipos:\n",
        "    if equipo[1] > equipo_ganador:\n",
        "      equipo_ganador = equipo[1]\n",
        "      return equipo_ganador\n",
        "      \n",
        "t = crear_lista_equipos()\n",
        "print(t)\n",
        "print(goles(t))\n",
        "print(campeon(t))"
      ],
      "metadata": {
        "id": "pjyO42lKYfUh",
        "colab": {
          "base_uri": "https://localhost:8080/"
        },
        "outputId": "99711ffe-1236-4414-e2ae-4debce69a94c"
      },
      "execution_count": null,
      "outputs": [
        {
          "output_type": "stream",
          "name": "stdout",
          "text": [
            "Nombre: ñ\n",
            "Puntaje: 2\n",
            "Goles: 3\n",
            "('ñ', 2, 3)\n",
            "2\n"
          ]
        }
      ]
    },
    {
      "cell_type": "code",
      "source": [
        "# Equipo = ('Nombre', puntaje, goles)\n",
        "equipo = ('Arg', 22, 10)\n",
        "equipos = [('Arg',22,10),('Bra',10,12)]\n",
        "\n",
        "equipos = []\n",
        "for i in range(2):\n",
        "  print(f'Equipo N°: {i+1}')\n",
        "  nombre = input('Ingrese nombre: ')\n",
        "  puntaje = int(input('Puntaje: '))\n",
        "  goles = int(input('Goles: '))\n",
        "\n",
        "  t = (nombre,puntaje,goles)\n",
        "  equipos.append(t)\n",
        "    \n",
        "print(equipos)"
      ],
      "metadata": {
        "id": "Nx6_7eCtfTBd"
      },
      "execution_count": null,
      "outputs": []
    },
    {
      "cell_type": "code",
      "source": [
        "class Equipo:\n",
        "  def __init__(self,nombre,puntaje,goles):\n",
        "    self.nombre = nombre\n",
        "    self.puntaje = puntaje\n",
        "    self.goles = goles\n",
        "\n",
        "  def infoEquipo(self):\n",
        "    return f'Nombre: {self.nombre} -- Puntaje: {self.puntaje} -- Goles: {self.goles}'\n",
        "\n",
        "equipo1 = Equipo('Arg',22,10)\n",
        "print(equipo1.infoEquipo())"
      ],
      "metadata": {
        "colab": {
          "base_uri": "https://localhost:8080/"
        },
        "id": "ylBWf14m7pkC",
        "outputId": "8f62568f-4fb1-4bfc-c5d4-1d09ba8ebd33"
      },
      "execution_count": null,
      "outputs": [
        {
          "output_type": "stream",
          "name": "stdout",
          "text": [
            "Nombre: Arg -- Puntaje: 22 -- Goles: 10\n"
          ]
        }
      ]
    },
    {
      "cell_type": "markdown",
      "metadata": {
        "id": "HEazpde3bBKw"
      },
      "source": [
        "Ejercicio 15: ​Escriba un programa que le solicite al usuario que elija una opción del\n",
        "siguiente menú y, de acuerdo a la opción elegida, le solicite los datos restantes para\n",
        "imprimir el área de la figura elegida:\n",
        "\n",
        "Menú de opciones\n",
        "\n",
        "1.- Círculo\n",
        "\n",
        "2.- Cuadrado\n",
        "\n",
        "3.- Rectángulo"
      ]
    },
    {
      "cell_type": "code",
      "source": [
        "menu = [\"círculo\", \"cuadrado\", \"rectángulo\"]\n",
        "print(\"Las opciones del menú son: \" + str(menu))\n",
        "ingreso = input(\"Ingrese una de las opciones del siguiente menú: \")\n",
        "\n",
        "if ingreso == \"círculo\":\n",
        "  import math\n",
        "  radio = float(input(\"Ingrese el radio del círculo en cm: \"))\n",
        "  area_circulo = (math.pi) * radio * radio\n",
        "  print(\"El área del círculo es: \"+ str(area_circulo)+ \"cm\")\n",
        "\n",
        "if ingreso == \"cuadrado\":\n",
        "  lado = float(input(\"Ingrese la medida de un lado del cuadrado en cm: \"))\n",
        "  area_cuadrado = lado * lado \n",
        "  print(\"El área del cuadrado es: \" + str(area_cuadrado)+ \"cm\")\n",
        "\n",
        "if ingreso == \"rectángulo\":\n",
        "  base = float(input(\"Ingrese la base del rectángulo en cm: \"))\n",
        "  altura = float(input(\"Ingrese la altura del rectángulo en cm: \"))\n",
        "  area_rectangulo = base * altura\n",
        "  print(\"El área del rectángulo es: \"+ str(area_rectangulo)+ \"cm\")"
      ],
      "metadata": {
        "id": "VSwKIOFIc3Md"
      },
      "execution_count": null,
      "outputs": []
    },
    {
      "cell_type": "markdown",
      "metadata": {
        "id": "JpOi9-g_bIim"
      },
      "source": [
        "Ejercicio 16​: Escriba un programa que le solicite al usuario que ingrese un monto de\n",
        "dinero y una opción del siguiente menú. De acuerdo a la opción elegida, imprima cuanto\n",
        "equivale el monto en dólares, en euros y en reales. Utilizar las funciones ya definidas en el\n",
        "ejercicio 14 de la práctica 3 (convertir_a_dolar, convertir_a_euro y convertir_a_real)."
      ]
    },
    {
      "cell_type": "code",
      "source": [
        "def convertir_a_dolar(m):\n",
        "  d = m / 312\n",
        "  print(\"El monto ingresado en dólares es: USD$ \" + str(d))\n",
        "\n",
        "def convertir_a_euro(m): \n",
        "  e  = m / 338\n",
        "  print(\"El monto ingresado en euros es: €$ \" +  str(e))\n",
        "\n",
        "def convertir_a_real(m):\n",
        "  r = m / 32.19\n",
        "  print(\"El monto ingresado en reales es: R$ \" + str(r))\n",
        "  \n",
        "monto = float(input(\"Ingrese el monto de dinero que quisiera convertir: \"))\n",
        "menu = [\"dólares\", \"euros\", \"reales\"]\n",
        "print(\"Seleccione una opción e ingrésela por teclado: \"+ str (menu))\n",
        "conversion = str(input(\"Ingrese la moneda en la que quisiera convertir su monto: \"))\n",
        "\n",
        "if conversion == \"dólares\": \n",
        "  convertir_a_dolar(monto)\n",
        "  \n",
        "if conversion == \"euros\":\n",
        "  convertir_a_euro(monto)\n",
        "\n",
        "if conversion == \"reales\":\n",
        "  convertir_a_real(monto)"
      ],
      "metadata": {
        "id": "SLZGbWWC2kty"
      },
      "execution_count": null,
      "outputs": []
    },
    {
      "cell_type": "markdown",
      "metadata": {
        "id": "8r1trJTybL0F"
      },
      "source": [
        "Ejercicio 17​:\n",
        "\n",
        "a) Definir una función que permita el ingreso de números por teclado hasta ingresar el 0,\n",
        "y retorne esa lista.\n",
        "\n",
        "b) Definir una función que reciba como parámetro una lista de números y retorne como\n",
        "resultado el promedio.\n",
        "\n",
        "c) Definir una función que reciba como parámetro una lista de números y retorne como\n",
        "resultado la suma de los números.\n",
        "\n",
        "d) Definir una función que reciba como parámetro una lista de números y retorne el\n",
        "número más grande de la lista (máximo).\n",
        "\n",
        "e) Definir una función que reciba como parámetro una lista de números y retorne el\n",
        "número más pequeño de la lista (mínimo).\n",
        "\n",
        "Utilizar las funciones definidas anteriormente para construir un programa que permita elegir\n",
        "una opción del siguiente menú:\n",
        "1. Ver el promedio de los números\n",
        "2. Ver la suma de los números\n",
        "3. Ver la cantidad de números\n",
        "4. Ver el número máximo\n",
        "5. Ver el número mínimo"
      ]
    },
    {
      "cell_type": "code",
      "source": [
        "# lista = []\n",
        "# num = int(input(\"Ingrese un número:\"))\n",
        "# lista.append(num)\n",
        "\n",
        "def crear_lista():\n",
        "  L = []\n",
        "  while True:\n",
        "    num = int(input('Ingrese número: '))\n",
        "    if num == 0:\n",
        "      break\n",
        "    L.append(num)\n",
        "  return L\n",
        "\n",
        "#A\n",
        "# def numeros(lista):\n",
        "#   return lista\n",
        "#   print(lista)\n",
        "\n",
        "#B\n",
        "def promedio(lista):\n",
        "  suma = 0\n",
        "  for num in lista:\n",
        "    suma += num\n",
        "  prom = suma//len(lista)\n",
        "  return prom\n",
        "\n",
        "#C\n",
        "def sumar(lista):\n",
        "  suma=0\n",
        "  for i in lista:\n",
        "    suma += i\n",
        "  return suma \n",
        " \n",
        "#D) Definir una función que reciba como parámetro una lista de números y \n",
        "#retorne el número más grande de la lista (máximo).\n",
        "def max(lista):\n",
        "  maximo = lista[0] \n",
        "  for i in lista:\n",
        "    if i >  maximo:\n",
        "      maximo = i\n",
        "  return maximo\n",
        "\n",
        "#E) e) Definir una función que reciba como parámetro una lista de números y retorne el\n",
        "#número más pequeño de la lista (mínimo).\n",
        "def min(lista):\n",
        "  minimo = lista[0] \n",
        "  for i in lista:\n",
        "    if i < minimo:\n",
        "      minimo = i\n",
        "  return minimo\n",
        "\n",
        "L = crear_lista()\n",
        "print(\"Opciones disponibles: \\n  \\nVer la suma de los números \\nVer la cantidad de números \\nVer el número máximo \\nVer el número mínimo\")\n",
        "print('Ver el promedio de los números -- Opción 1')\n",
        "menu = input(\"Ingrese una de las opciones del menú anterior: \")\n",
        "  \n",
        "if menu == '1':\n",
        "  print(promedio(L))\n",
        "elif menu == \"Ver la suma de los números\":\n",
        "  print(sumar(lista))\n",
        "elif menu ==\"Ver la cantidad de números\":\n",
        "  print(len(L))\n",
        "elif menu == \"Ver el número máximo\":\n",
        "  print(max(lista))\n",
        "elif menu ==  \"Ver el número mínimo\":\n",
        "  print(min(lista))\n",
        "else: print(\"No has elegido ninguna de las opciones.\")\n"
      ],
      "metadata": {
        "id": "Dnx1kp7VPR6I"
      },
      "execution_count": null,
      "outputs": []
    }
  ],
  "metadata": {
    "colab": {
      "provenance": [],
      "include_colab_link": true
    },
    "kernelspec": {
      "display_name": "Python 3",
      "name": "python3"
    },
    "language_info": {
      "name": "python"
    }
  },
  "nbformat": 4,
  "nbformat_minor": 0
}