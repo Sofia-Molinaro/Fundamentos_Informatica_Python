{
  "nbformat": 4,
  "nbformat_minor": 0,
  "metadata": {
    "colab": {
      "provenance": [],
      "include_colab_link": true
    },
    "kernelspec": {
      "name": "python3",
      "display_name": "Python 3"
    },
    "language_info": {
      "name": "python"
    }
  },
  "cells": [
    {
      "cell_type": "markdown",
      "metadata": {
        "id": "view-in-github",
        "colab_type": "text"
      },
      "source": [
        "<a href=\"https://colab.research.google.com/github/Sofia-Molinaro/Fundamentos_Informatica_Python/blob/main/TP4_Condicionales.ipynb\" target=\"_parent\"><img src=\"https://colab.research.google.com/assets/colab-badge.svg\" alt=\"Open In Colab\"/></a>"
      ]
    },
    {
      "cell_type": "markdown",
      "source": [
        "Ejercicio 1: Escribir un programa que lee un número ingresado por el usuario en pantalla\n",
        "y muestre si es positivo, negativo o cero"
      ],
      "metadata": {
        "id": "A7S17pByIP6f"
      }
    },
    {
      "cell_type": "code",
      "source": [
        "def pos_neg_cero(n):\n",
        "  if n > 0:\n",
        "    resultado = (\"Es positivo\")\n",
        "  elif n < 0:\n",
        "    resultado = (\"Es negativo\")\n",
        "  else:\n",
        "    resultado = (\"Es cero\")  \n",
        "  print(resultado)\n",
        "\n",
        "numero = int(input(\"Ingrese un numero: \"))\n",
        "\n",
        "pos_neg_cero(numero)"
      ],
      "metadata": {
        "id": "IafO0FDng1Q_"
      },
      "execution_count": null,
      "outputs": []
    },
    {
      "cell_type": "markdown",
      "source": [
        "Ejercicio 2: Escribir un programa que me indique si un número es divisible por 6\n"
      ],
      "metadata": {
        "id": "F0U6KoFkIRQT"
      }
    },
    {
      "cell_type": "code",
      "source": [
        "numero = int(input(\"Ingrese un número: \"))\n",
        "if numero % 6 == 0:\n",
        "  print(\"El número ingresado es divisible por 6\")\n",
        "else:\n",
        "  print(\"El número ingresado no es divisible por 6\")"
      ],
      "metadata": {
        "id": "p5xTpzBOg2Bm"
      },
      "execution_count": null,
      "outputs": []
    },
    {
      "cell_type": "markdown",
      "source": [
        "Ejercicio 3: Escribir un programa que lea dos números “n” y “m” y determine si m es\n",
        "divisible por n."
      ],
      "metadata": {
        "id": "MBChberwIRUg"
      }
    },
    {
      "cell_type": "code",
      "source": [
        "n = int(input(\"Ingrese un número: \"))\n",
        "m = int(input(\"Ingrese un número: \"))\n",
        "if m % n == 0:\n",
        "  print(\"Es divisible\")\n",
        "else: \n",
        "  print(\"No es divisible\")"
      ],
      "metadata": {
        "id": "IuVjPu2Gg2m2"
      },
      "execution_count": null,
      "outputs": []
    },
    {
      "cell_type": "markdown",
      "source": [
        "Ejercicio 4: Diseñar un programa que dado un número de 1 a 7 determine el día de la\n",
        "semana que representa: 1- Domingo a 7 – Sábado. ¿Qué pasa si ingreso un número\n",
        "mayor que 7?"
      ],
      "metadata": {
        "id": "5uJtKuhrIRfG"
      }
    },
    {
      "cell_type": "code",
      "source": [
        "numero = int(input(\"Ingrese un número del 1 al 7: \"))\n",
        "if numero == 1:\n",
        "  print(\"Lunes\")\n",
        "elif numero == 2:\n",
        "  print(\"Martes\")\n",
        "elif numero == 3:\n",
        "  print(\"Miércoles\")\n",
        "elif numero == 4:\n",
        "  print(\"Jueves\")\n",
        "elif numero == 5:\n",
        "  print(\"Viernes\")\n",
        "elif numero == 6:\n",
        "  print(\"Sábado\")\n",
        "elif numero == 7:\n",
        "  print(\"Domingo\")\n",
        "else: \n",
        "  print(\"No se ingresó un número del 1 al 7\")"
      ],
      "metadata": {
        "id": "m477rSxag3Lh"
      },
      "execution_count": null,
      "outputs": []
    },
    {
      "cell_type": "markdown",
      "source": [
        "Ejercicio 5: \n",
        "Dada la siguiente tabla\n",
        "\n",
        "TRANSPORTE  -  PASAJEROS\n",
        "\n",
        "Bicicleta    -   1\n",
        "\n",
        "Moto         -   2\n",
        "\n",
        "Auto         -   4\n",
        "\n",
        "Camioneta    -  12\n",
        "\n",
        "Colectivo    -  40\n",
        "\n",
        "Avión       -  200\n",
        "\n",
        "Escribir un programa que dada la cantidad de personas a viajar, determine el\n",
        "medio de transporte"
      ],
      "metadata": {
        "id": "9dkdZArJIRoU"
      }
    },
    {
      "cell_type": "code",
      "source": [
        "numero = int(input(\"Ingrese la cantidad de pasajeros que viajarán: \"))\n",
        "if numero == 1:\n",
        "  print(\"Viaja en bicicleta\")\n",
        "elif numero <= 2:\n",
        "  print(\"Viajan en moto\")\n",
        "elif numero <= 4:\n",
        "  print(\"Viajan en auto\")\n",
        "elif numero <= 12:\n",
        "  print(\"Viajan en camioneta\")\n",
        "elif numero <= 40:\n",
        "  print(\"Viajan en colectivo\")\n",
        "elif numero <= 200:\n",
        "  print(\"Viajan en avión\")\n",
        "else:\n",
        "  print(\"Supera la cantidad de personas que pueden ingresar en el medio de transporte disponible en la tabla\")"
      ],
      "metadata": {
        "id": "dzxBc31FhUMY"
      },
      "execution_count": null,
      "outputs": []
    },
    {
      "cell_type": "markdown",
      "source": [
        "Ejercicio 6: Desarrollar un programa en el ingrese un año de nacimiento y me indique si la persona es bebé, menor, adolescente, adulto, veterano, abuelo\n",
        "\n",
        "Tipo             Edad\n",
        "\n",
        "Bebé           < 2 años\n",
        "\n",
        "Menor         > 2 y <=12\n",
        "\n",
        "Adolescente   >12 y <=18\n",
        "\n",
        "Adulto        >18 y <=45\n",
        "\n",
        "Veterano      >45 y <=60\n",
        "\n",
        "Abuelo        >60\n"
      ],
      "metadata": {
        "id": "Ky7A6qlLIRtW"
      }
    },
    {
      "cell_type": "code",
      "source": [
        "anio = int(input(\"Ingrese un año de nacimiento: \"))\n",
        "if anio <= 2:\n",
        "  print(\"Bebé\")\n",
        "elif anio <= 12: \n",
        "  print(\"Menor\")\n",
        "elif anio <= 18:\n",
        "  print(\"Adolescente\")\n",
        "elif anio <= 45:\n",
        "  print(\"adulto\")\n",
        "elif anio <= 60:\n",
        "  print(\"Veterano\")\n",
        "else:\n",
        "  print(\"Abuelo\")"
      ],
      "metadata": {
        "id": "Em5yUw_yJwso"
      },
      "execution_count": null,
      "outputs": []
    },
    {
      "cell_type": "markdown",
      "source": [
        "Ejercicio 7: Dada la siguiente tabla\n",
        "\n",
        "Sexo           Altura (cm)\n",
        "\n",
        "Femenino      < 145 cm         Petisa\n",
        "\n",
        "Femenino      >145 y <170      Normal\n",
        "\n",
        "Femenino      >170             Alta\n",
        "\n",
        "Masculino     <160 cm         Petiso\n",
        "\n",
        "Masculino      >160 y <190    Normal\n",
        "\n",
        "Masculino      > 190          Alto\n",
        "\n",
        "Escriba un programa que, leyendo del teclado los valores de sexo y altura,\n",
        "determine si es una persona petisa, normal o alta.\n"
      ],
      "metadata": {
        "id": "xt4c2KBhIRyd"
      }
    },
    {
      "cell_type": "code",
      "source": [
        "sexo = str(input(\"Ingrese el sexo de la persona en letra minúscula: \"))\n",
        "altura = float(input(\"Ingrese la altura de la persona en cm: \"))\n",
        "\n",
        "if sexo == \"femenino\":\n",
        "  if altura < 145:\n",
        "    print(\"Petisa\")\n",
        "  elif altura < 170:\n",
        "    print(\"Normal\")\n",
        "else:\n",
        "  print(\"Alta\")\n",
        "\n",
        "if sexo == \"masculino\":\n",
        "  if altura < 160:\n",
        "    print(\"Petiso\")\n",
        "  elif altura < 190:\n",
        "    print(\"Normal\")\n",
        "else:\n",
        "  print(\"Alto\")"
      ],
      "metadata": {
        "id": "lx2NTNrvSRIc"
      },
      "execution_count": null,
      "outputs": []
    },
    {
      "cell_type": "markdown",
      "source": [
        "Ejercicio 8: Diseña un programa que, dado un número entero, determine si éste es el\n",
        "doble de un número impar. (Ejemplo: 14 es el doble de 7, que es impar.)"
      ],
      "metadata": {
        "id": "GV2ZV2QBL2y6"
      }
    },
    {
      "cell_type": "code",
      "source": [
        "def es_impar(n):\n",
        "  if n % 2 != 0:\n",
        "    print(\"El número ingresado es el doble de un número impar\")\n",
        "  else: \n",
        "    print(\"El número ingresado NO es el doble de un número impar\")\n",
        "\n",
        "\n",
        "numero = int(input(\"Ingrese un número: \"))\n",
        "resultado = numero / 2\n",
        "es_impar(resultado)"
      ],
      "metadata": {
        "id": "bgUtYLKDipFS"
      },
      "execution_count": null,
      "outputs": []
    },
    {
      "cell_type": "markdown",
      "source": [
        "Ejercicio 9: Diseñar un programa que dado un caracter imprima en pantalla si es una\n",
        "letra, un dígito, un caracter especial u otro tipo de caracter."
      ],
      "metadata": {
        "id": "KBmbbZCId6D5"
      }
    },
    {
      "cell_type": "code",
      "source": [
        "caracter = (input(\"Ingrese un caracter: \"))\n",
        "if caracter >= 'a' and caracter <= 'z':\n",
        "  print(\"Es una letra\")\n",
        "if caracter >= '1' and caracter <= '9':\n",
        "  print(\"Es un dígito\")\n",
        "if caracter >= '!' and caracter <= '/':\n",
        "  print(\"Es un caracter especial\")\n"
      ],
      "metadata": {
        "id": "UGDnSZpSL9Rt"
      },
      "execution_count": null,
      "outputs": []
    },
    {
      "cell_type": "markdown",
      "source": [
        "Ejercicio 10: Dadas 3 longitudes, decir mediante un mensaje si se forma o no un\n",
        "triángulo (cada lado tiene que ser menor que la suma de los otros dos)"
      ],
      "metadata": {
        "id": "7LrbuXzlIR3O"
      }
    },
    {
      "cell_type": "code",
      "source": [
        "long1 = float(input(\"Ingrese la longitud del primer lado: \"))\n",
        "long2 = float(input(\"Ingrese la longitud del segundo lado: \"))\n",
        "long3 = float(input(\"Ingrese la longitud del tercer lado: \"))\n",
        "\n",
        "if long1 + long2 >long3:\n",
        "  if long2 + long3 > long1:\n",
        "    if long3 + long1 > long2:\n",
        "      print(\"Se forma un triángulo\")\n",
        "      \n",
        "    else:\n",
        "      print(\"No se forma un triángulo\")"
      ],
      "metadata": {
        "id": "Qws5rJxBsLUe"
      },
      "execution_count": null,
      "outputs": []
    },
    {
      "cell_type": "markdown",
      "source": [
        "Ejercicio 11: Diseña un programa Python que lea un caracter cualquiera desde el\n",
        "teclado, y muestre el mensaje @Es una MAYÚSCULA cuando el caracter sea una letra\n",
        "mayúscula y @Es una MINÚSCULA cuando sea una minúscula. En cualquier otro caso, no\n",
        "mostrará mensaje alguno. (Considera únicamente letras del alfabeto)\n",
        "Pista: aunque parezca una obviedad, recuerda que una letra es minúscula si está entre la\n",
        "’a’ y la ’z’, y mayúscula si está entre la ’A’ y la ’Z’.\n"
      ],
      "metadata": {
        "id": "Mq87A_caJPGU"
      }
    },
    {
      "cell_type": "code",
      "source": [
        "texto = str(input(\"Ingrese un caracter: \"))\n",
        "if texto >= 'A' and texto <= 'Z':\n",
        "  print(\"Es una MAYÚSCULA\")\n",
        "else:\n",
        "  if texto >= 'a' and texto <= 'z':\n",
        "    print(\"Es una minúscula\")"
      ],
      "metadata": {
        "colab": {
          "base_uri": "https://localhost:8080/"
        },
        "id": "I9Ne0aNHvo6l",
        "outputId": "aefb9337-e419-4181-a36d-3354e4e782fa"
      },
      "execution_count": null,
      "outputs": [
        {
          "output_type": "stream",
          "name": "stdout",
          "text": [
            "Ingrese un caracter: a\n",
            "Es una minúscula\n"
          ]
        }
      ]
    },
    {
      "cell_type": "markdown",
      "source": [
        "Ejercicio 12: Escribir un programa que dado un año determine si es bisiesto o no. Un\n",
        "año es bisiesto si es múltiplo de 4 (por ejemplo 1984). Los años múltiplos de 100 no son\n",
        "bisiestos, salvo si ellos son también múltiplos de 400 (2000 es bisiesto, pero 1800 no lo\n",
        "es)."
      ],
      "metadata": {
        "id": "1hH5XgmEIR8V"
      }
    },
    {
      "cell_type": "code",
      "source": [
        "anio = int(input(\"Ingrese un año: \"))\n",
        "if anio % 4 == 0 and anio % 400 == 0:\n",
        "  print(\"Es un año bisesto\")\n",
        "else:\n",
        "  print(\"No es un año bisiesto\")"
      ],
      "metadata": {
        "id": "t0oH1aKj3xHd"
      },
      "execution_count": null,
      "outputs": []
    },
    {
      "cell_type": "markdown",
      "source": [
        "Ejercicio 13: Dado la duración (en segundos) de una llamada telefónica, calcular su\n",
        "costo, de la siguiente manera: El primer minuto $1,10(pesos), luego $0,25(pesos)cada fracción de 15\n",
        "segundos (un cuarto de minuto).\n"
      ],
      "metadata": {
        "id": "LRV36r5xJVAP"
      }
    },
    {
      "cell_type": "code",
      "source": [
        "duracion_llamada = int(input(\"Ingrese la duración de la llamada en segundos: \"))\n",
        "costo = 1.10    \n",
        "if duracion_llamada <= 60:\n",
        "  print(\"El costo de la llamada es: $\", costo)\n",
        "else:\n",
        "  if duracion_llamada >= 75:\n",
        "    costo = costo + 0.25\n",
        "  print(\"El costo de la llamada es: $\", costo)"
      ],
      "metadata": {
        "id": "AKTLn6QL7T8S"
      },
      "execution_count": null,
      "outputs": []
    },
    {
      "cell_type": "markdown",
      "source": [
        "Ejercicio 14: Calcular el número de pulsaciones que una persona debe tener por cada 10\n",
        "segundos de ejercicio aeróbico; la fórmula que se aplica cuando el sexo es femenino es:\n",
        "(220-edad)/10; si el sexo es masculino es: (210-edad)/10.\n"
      ],
      "metadata": {
        "id": "lABpzgH7JXgW"
      }
    },
    {
      "cell_type": "code",
      "source": [
        "sexo = str(input(\"Ingrese el sexo de la persona en letra minúscula: \"))\n",
        "edad = int(input(\"Ingrese la edad de la persona: \"))\n",
        "if sexo == \"femenino\":\n",
        "  pulsaciones = (220-edad)/10\n",
        "  print(\"El número de pulsaciones del sujeto femenino es: \"+ str(pulsaciones))\n",
        "else:\n",
        "  if sexo == \"masculino\":\n",
        "    pulsaciones = (210-edad)/10\n",
        "    print(\"El número de pulsaciones del sujeto masculino es: \"+ str(pulsaciones))"
      ],
      "metadata": {
        "id": "GMxfY2LXmHwR"
      },
      "execution_count": null,
      "outputs": []
    }
  ]
}