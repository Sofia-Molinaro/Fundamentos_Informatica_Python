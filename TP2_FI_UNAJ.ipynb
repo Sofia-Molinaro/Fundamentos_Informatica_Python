{
  "nbformat": 4,
  "nbformat_minor": 0,
  "metadata": {
    "colab": {
      "provenance": [],
      "collapsed_sections": [
        "7uXLnfc6C8_B"
      ],
      "include_colab_link": true
    },
    "kernelspec": {
      "name": "python3",
      "display_name": "Python 3"
    },
    "language_info": {
      "name": "python"
    }
  },
  "cells": [
    {
      "cell_type": "markdown",
      "metadata": {
        "id": "view-in-github",
        "colab_type": "text"
      },
      "source": [
        "<a href=\"https://colab.research.google.com/github/Sofia-Molinaro/Fundamentos_Informatica_Python/blob/main/TP2_FI_UNAJ.ipynb\" target=\"_parent\"><img src=\"https://colab.research.google.com/assets/colab-badge.svg\" alt=\"Open In Colab\"/></a>"
      ]
    },
    {
      "cell_type": "markdown",
      "source": [
        "3) Pedir que se ingrese un número e imprimir el triple."
      ],
      "metadata": {
        "id": "UcFUuwPCgdZ0"
      }
    },
    {
      "cell_type": "code",
      "source": [
        "n = int(input('Ingrese un número. Se calculará su triple: '))\n",
        "#n = int(n)\n",
        "triple = n * 3\n",
        "print('El triple de',n,'es:',triple)\n",
        "\n",
        "# def triple(a):\n",
        "#   \"\"\"Recibe un número y retorna su triple\"\"\"\n",
        "#   ie, dado a retorna a*3\n",
        "\n",
        "# n = input('Ingrese un número: ')\n",
        "# n = int(n) #Transforma la cadena n en un número entero.\n",
        "\n",
        "# print(f'El triple de {n} es {triple(n)}')"
      ],
      "metadata": {
        "colab": {
          "base_uri": "https://localhost:8080/"
        },
        "id": "eCLDf1arg5CY",
        "outputId": "864068e3-03e4-4e77-bd7a-4fcbee3ed6f8"
      },
      "execution_count": null,
      "outputs": [
        {
          "output_type": "stream",
          "name": "stdout",
          "text": [
            "Ingrese un número: 3\n",
            "El triple de 3 es 9\n"
          ]
        }
      ]
    },
    {
      "cell_type": "code",
      "source": [
        "# Realizar un programa que imprima la siguente cadena de texto:\n",
        "# 1,2,Miki,4,Moko,Miki,7,8,Miki,Moko,11,Miki\n",
        "#,13,14,MikiMoko,16,17,Miki,...\n",
        "\n",
        "for i in range(1, 101):\n",
        "    if i % 3 == 0 and i % 5 ==0:\n",
        "        print(\"MikiMoko\")\n",
        "    elif i % 3 == 0:\n",
        "        print(\"Miki\")\n",
        "    elif i % 5 == 0:\n",
        "        print(\"Moko\")\n",
        "    else:\n",
        "        print(i)"
      ],
      "metadata": {
        "id": "m8V9ry18tCHR"
      },
      "execution_count": null,
      "outputs": []
    },
    {
      "cell_type": "markdown",
      "source": [
        "Pedir que se ingrese un número e imrimir la mitad."
      ],
      "metadata": {
        "id": "gfNRpSaBjeC4"
      }
    },
    {
      "cell_type": "code",
      "source": [
        "n = int(input('Se calculará la mitad del número que ingrese: '))\n",
        "mitad = n // 2\n",
        "print('La mitad del número',n,'es:',mitad)\n",
        "print(f'La mitad del número {n} es {mitad}') # Interpolación de strings"
      ],
      "metadata": {
        "colab": {
          "base_uri": "https://localhost:8080/"
        },
        "id": "S4BKMuLZjyQw",
        "outputId": "ec7ef3e3-ed0e-4ec4-907d-6bdb0c0bc2e6"
      },
      "execution_count": null,
      "outputs": [
        {
          "output_type": "stream",
          "name": "stdout",
          "text": [
            "Se calculará la mitad del número que ingrese: 12\n",
            "La mitad del número 12 es: 6\n"
          ]
        }
      ]
    },
    {
      "cell_type": "markdown",
      "source": [
        "Pedir que se ingrese 3 notas e imprimir el promedio. Recordar que el promedio es la suma de los números dividido la cantidad."
      ],
      "metadata": {
        "id": "EhWKrLUORaU_"
      }
    },
    {
      "cell_type": "code",
      "source": [
        "n1 = float(input('Ingrese el primer número: '))\n",
        "n2 = float(input('Ingrese el segundo número: '))\n",
        "n3 = float(input('Ingrese el tercer número: '))\n",
        "promedio = (n1 + n2 + n3) / 3\n",
        "print('El promedio de los número ingresados es: ',promedio)"
      ],
      "metadata": {
        "id": "MfGtyW38Ra4H"
      },
      "execution_count": null,
      "outputs": []
    },
    {
      "cell_type": "markdown",
      "source": [
        "Pedir base y altura de un triángulo y mostrar el área del mismo"
      ],
      "metadata": {
        "id": "zlB-SkiffGaj"
      }
    },
    {
      "cell_type": "code",
      "source": [
        "base = float(input('Ingrese la base del triángulo: '))\n",
        "altura = float(input('Ingrese la altura del triángulo: '))\n",
        "area = (base * altura) / 2  \n",
        "print('El área del triángulo es: ',area)"
      ],
      "metadata": {
        "id": "7GgstnmufGty"
      },
      "execution_count": null,
      "outputs": []
    },
    {
      "cell_type": "markdown",
      "source": [
        "Pedir el diámetro de un círculo y calcular su área y perímetro. Recordar que\n",
        "Perímetro = π * Diámetro , Área = π * radio2\n",
        ". Por último, el diámetro = 2 * radio"
      ],
      "metadata": {
        "id": "2KuPlNj4uADc"
      }
    },
    {
      "cell_type": "code",
      "source": [
        "from math import pi\n",
        "\n",
        "diametro = float(input('Ingrese el diametro del círculo: '))\n",
        "radio = diametro / 2\n",
        "perimetro = pi * diametro\n",
        "area = pi  * radio\n",
        "print('El área del círculo es: ',round(area,2),'El perímetro del círculo es: ',round(perimetro,2))"
      ],
      "metadata": {
        "id": "U9U09V3KuAWk",
        "colab": {
          "base_uri": "https://localhost:8080/"
        },
        "outputId": "16e5013c-8006-4136-f8a9-cd041fc7c38b"
      },
      "execution_count": null,
      "outputs": [
        {
          "output_type": "stream",
          "name": "stdout",
          "text": [
            "Ingrese el diametro del círculo: 2\n",
            "El área del círculo es:  3.14 El perímetro del círculo es:  6.28\n"
          ]
        }
      ]
    },
    {
      "cell_type": "markdown",
      "source": [
        "Pedir 2 números y mostrar la división entre ellos y el resto.\n"
      ],
      "metadata": {
        "id": "g5w87gxQyhFN"
      }
    },
    {
      "cell_type": "code",
      "source": [
        "n1 = int(input('Ingrese el dividendo: '))\n",
        "n2 = int(input('Ingrese el divisor: '))\n",
        "if n2 != 0:\n",
        "  cociente = n1 // n2\n",
        "  resto = n1 % n2\n",
        "print('El cociente de la división: ',cociente,'El resto de la división es: ',resto)"
      ],
      "metadata": {
        "id": "vhBv1xN1yhR0"
      },
      "execution_count": null,
      "outputs": []
    },
    {
      "cell_type": "markdown",
      "source": [
        "Pedir alto, ancho y largo de una pileta. Calcular el volumen y la cantidad de litros\n",
        "que tiene. (saber que 1000 cm3=1 litro)"
      ],
      "metadata": {
        "id": "_xbpPbaKZlYB"
      }
    },
    {
      "cell_type": "code",
      "source": [
        "alto = float(input('Ingrese el alto de la pileta en cm: '))\n",
        "ancho = float(input('Ingrese el ancho de la pileta en cm: '))\n",
        "largo = float(input('Ingrese el largo de la pileta en cm: '))\n",
        "volumen = alto * ancho * largo\n",
        "cantidad_litros = volumen / 1000\n",
        "print('El volumen de la piscina es: ',volumen,'cm.','\\n La cantidad de litros que tiene la piscina es: ',cantidad_litros)"
      ],
      "metadata": {
        "id": "__hJvfXMZq2h"
      },
      "execution_count": null,
      "outputs": []
    },
    {
      "cell_type": "markdown",
      "source": [
        "Pedir ancho y largo de un terreno y mostrar cuántos paneles de pasto hay que\n",
        "comprar (son de 60x60 cm)"
      ],
      "metadata": {
        "id": "r4P_R91nZrQx"
      }
    },
    {
      "cell_type": "code",
      "source": [
        "ancho = float(input('Ingrese el alto del terreno en cm: '))\n",
        "largo = float(input('Ingrese el largo del terreno en cm: '))\n",
        "paneles = ancho * largo\n",
        "area_paneles = 60 * 60\n",
        "cantidad_paneles = paneles / area_paneles\n",
        "print ('Hay que comprar ',cantidad_paneles, 'paneles de pasto')"
      ],
      "metadata": {
        "id": "oC1Mrqz2Zrco"
      },
      "execution_count": null,
      "outputs": []
    },
    {
      "cell_type": "markdown",
      "source": [
        "Pedir datos de 4 productos comprados, con su cantidad y precio unitario y mostrar\n",
        "cuánto se gasta por cada producto y el total"
      ],
      "metadata": {
        "id": "QbH4q5HMZxUR"
      }
    },
    {
      "cell_type": "code",
      "source": [
        "total = 0\n",
        "for i in range(1,5):\n",
        "  print(f'Producto nùmero {i}')\n",
        "  c = int(input('Ingrese la cantidad: '))\n",
        "  p = float(input('Ingrese precio unitario: '))\n",
        "  print(f'Gasto: $ {c*p}')\n",
        "  total += c*p\n",
        "print(f'El total gastado es ${total}')"
      ],
      "metadata": {
        "id": "6xVp4FI0Zxb5"
      },
      "execution_count": null,
      "outputs": []
    },
    {
      "cell_type": "markdown",
      "source": [
        "Diseña un programa que, a partir del valor del lado de un cuadrado (3 metros),\n",
        "muestre el valor de su perímetro (en metros) y el de su área (en metros cuadrados). (El perímetro\n",
        "debe darte 12 metros y el área 9 metros cuadrados.)"
      ],
      "metadata": {
        "id": "SnlnJaWZZ20h"
      }
    },
    {
      "cell_type": "code",
      "source": [
        "lado = float(input('Ingrese el lado de un cuadrado en metros: '))\n",
        "perimetro = lado * 4\n",
        "area = lado * lado\n",
        "print('El valor del perímetro de un cuadrado es: ',perimetro,'m','\\n El área del cuadrado es: ',area,'m2')"
      ],
      "metadata": {
        "id": "RcmIfCndZ2-x"
      },
      "execution_count": null,
      "outputs": []
    },
    {
      "cell_type": "markdown",
      "source": [
        "# **Cadenas de texto**"
      ],
      "metadata": {
        "id": "7uXLnfc6C8_B"
      }
    },
    {
      "cell_type": "markdown",
      "source": [
        "Pedir que se ingrese un nombre e imprimir un saludo, ejemplo: 'hola Juan'"
      ],
      "metadata": {
        "id": "r4yxP378C9IJ"
      }
    },
    {
      "cell_type": "code",
      "source": [
        "nombre = str(input('Ingrese un nombre: '))\n",
        "print('Hola',nombre)"
      ],
      "metadata": {
        "id": "rtoq9W-LObAk"
      },
      "execution_count": null,
      "outputs": []
    },
    {
      "cell_type": "markdown",
      "source": [
        "Pedir tres palabras y mostrar un texto con las iniciales de las tres."
      ],
      "metadata": {
        "id": "doxoaunoObLi"
      }
    },
    {
      "cell_type": "code",
      "source": [
        "p1 = input('Ingrese una palabra: ')\n",
        "p2 = input('Ingrese una palabra: ')\n",
        "p3 = input('Ingrese una palabra: ')\n",
        "\n",
        "iniciales = p1[0] + p2[0] + p3[0] \n",
        "\n",
        "print('Texto con las iniciales de las tres palabras solicitadas: ', iniciales)\n"
      ],
      "metadata": {
        "id": "34WZSCaxObYj"
      },
      "execution_count": null,
      "outputs": []
    },
    {
      "cell_type": "code",
      "source": [
        "#muestra la lista de texto\n",
        "p = \"Hola\"\n",
        "p[0] + p[1]\n",
        "\n",
        "c = \"\"\n",
        "c + p[2]\n",
        "c = c + p[2]\n",
        "c\n",
        "# for l in p:\n",
        "#   print(l)\n",
        "\n",
        "for i in range(len(p)):\n",
        "  print(p[i])"
      ],
      "metadata": {
        "id": "p0zZpLTf2sHE"
      },
      "execution_count": null,
      "outputs": []
    },
    {
      "cell_type": "markdown",
      "source": [
        "Pedir tres palabras y mostrar un texto con las tres letras finales. "
      ],
      "metadata": {
        "id": "AWVopAmy58AD"
      }
    },
    {
      "cell_type": "code",
      "source": [
        "p1 = input(\"Ingrese una palabra: \")\n",
        "p2 = input(\"Ingrese una palabra: \")\n",
        "p3 = input(\"Ingrese una palabra: \")\n",
        "\n",
        "t = p1[len(p1) -1] + p2[len(p2) -1] + p3[len(p3) -1]\n",
        "print(f'Texto: {t}')"
      ],
      "metadata": {
        "id": "_kPrP7xP5srq"
      },
      "execution_count": null,
      "outputs": []
    },
    {
      "cell_type": "markdown",
      "source": [
        "Pedir un verbo en infinitivo y mostrar su terminación (ar, er o ir)"
      ],
      "metadata": {
        "id": "tZfgUXbcObir"
      }
    },
    {
      "cell_type": "code",
      "source": [
        "v = input('Verbo en inifinitivo: ')\n",
        "# Solución usando slices\n",
        "# print(v[-2::])\n",
        "\n",
        "t = '' # Un acumulador de letras\n",
        "for i in range(len(v)-2,len(v)): # Las últimas dos letras --> Desde el anteúltimo (len(v) - 2), hasta el final(len(v)) -- Pensarlo con papel\n",
        "   t += v[i]\n",
        "print(t)"
      ],
      "metadata": {
        "id": "ekfmpwfwObra"
      },
      "execution_count": null,
      "outputs": []
    },
    {
      "cell_type": "markdown",
      "source": [
        "Pedir nombre, apellido, nro. de alumno y comisión que desea suscribirse. Mostrar\n",
        "el siguiente mensaje “La solicitud de inscripción a la comisión <comision> solicitada por el\n",
        "alumno <apellido>, <nombre> está siendo procesada”"
      ],
      "metadata": {
        "id": "UslRF5rpObyj"
      }
    },
    {
      "cell_type": "code",
      "source": [
        "nombre = input('Ingrese su nombre: ')\n",
        "apellido = input('Ingrese su apellido: ')\n",
        "nro_de_alumno = input('Ingrese su nro. de alumno: ')\n",
        "comision = input('Ingrese su comisión: ')\n",
        "print('La solicitud de inscripción',nro_de_alumno,'de la comisión',comision, 'solicitada por el alumno',apellido, nombre, ' está siendo procesada')"
      ],
      "metadata": {
        "id": "ktKgIQvcOb5K"
      },
      "execution_count": null,
      "outputs": []
    },
    {
      "cell_type": "markdown",
      "source": [
        "Pedir cuatro datos, quién, qué hizo, cuándo y cómo. Mostrar la siguiente noticia:\n",
        "“Última noticia!, la persona xx, en el dia xx, hizo xx, de la siguiente manera xx”"
      ],
      "metadata": {
        "id": "jaeAUVdjOb_q"
      }
    },
    {
      "cell_type": "code",
      "source": [
        "quien = input('¿Quién?: ')\n",
        "que = input('¿Qué?: ')\n",
        "cuando = input('¿Cuándo?: ')\n",
        "como = input('¿Cómo?: ')\n",
        "\n",
        "print(f'Última noticia! {quien}, en {cuando} {que} {como}')"
      ],
      "metadata": {
        "id": "1vZ_hzbCOcGK",
        "colab": {
          "base_uri": "https://localhost:8080/"
        },
        "outputId": "f419f552-4d6b-4e85-c596-e5ea47638689"
      },
      "execution_count": null,
      "outputs": [
        {
          "output_type": "stream",
          "name": "stdout",
          "text": [
            "¿Quién?: Cochiloco\n",
            "¿Qué?: rompió un vaso\n",
            "¿Cuándo?: Navidad\n",
            "¿Cómo?: jugando a la escondida\n",
            "Última noticia! Cochiloco, en Navidad rompió un vaso jugando a la escondida\n"
          ]
        }
      ]
    },
    {
      "cell_type": "markdown",
      "source": [
        "Pedir nombre, apellido de una persona y el día, mes, año en que nació. Armarle una\n",
        "clave con esos datos (su clave seria sus iniciales seguido de un guión bajo y de su año de\n",
        "nacimiento) y mostrarla. "
      ],
      "metadata": {
        "id": "aem2aekdOcMT"
      }
    },
    {
      "cell_type": "code",
      "source": [
        "nombre = input('Ingrese su nombre: ')\n",
        "apellido = input('Ingrese su apellido: ')\n",
        "dia = input('Ingrese el día de su nacimiento: ')\n",
        "mes = input('Ingrese su mes de nacimiento: ')\n",
        "año = input('Ingrese su año de nacimiento: ')\n",
        "\n",
        "iniciales = nombre[0] + apellido[0]\n",
        "\n",
        "print('Su posible clave podría ser: ',iniciales,'_',año)"
      ],
      "metadata": {
        "id": "_5hP42h9Or4r"
      },
      "execution_count": null,
      "outputs": []
    },
    {
      "cell_type": "markdown",
      "source": [
        "Mostrar 5 veces la cadena “Hola”"
      ],
      "metadata": {
        "id": "IKgFs1XYOsHc"
      }
    },
    {
      "cell_type": "code",
      "source": [
        "for x in range(5):\n",
        "  print('Hola')"
      ],
      "metadata": {
        "id": "KXnuiu-OOsS7"
      },
      "execution_count": null,
      "outputs": []
    },
    {
      "cell_type": "markdown",
      "source": [
        "# **Listas y tuplas**"
      ],
      "metadata": {
        "id": "Hd97vc4B4-ux"
      }
    },
    {
      "cell_type": "markdown",
      "source": [
        "Ejecutar los siguientes códigos. ¿Cuál es el resultado de las siguientes ejecuciones?.\n",
        "\n",
        "Justificar\n",
        "\n",
        "a) tupla=(1,True,['a','b','c'], \"hola\")\n",
        "\n",
        "tupla[1]=False\n",
        "\n",
        "b) tupla=(1,True,['a','b','c'], \"hola\")\n",
        "\n",
        "tupla[2][0]='b'"
      ],
      "metadata": {
        "id": "Lh_jARQO5IYB"
      }
    },
    {
      "cell_type": "code",
      "source": [
        "#A)No se puede ejecutar el programa porque los elementos de la tupla son inmutables, no se puede modificar. \n",
        "tupla = (1,True,['a','b','c'], \"hola\")\n",
        "\n",
        "tupla[1] = False\n",
        "\n",
        "print(tupla)"
      ],
      "metadata": {
        "id": "4hGVcaKc_s3x"
      },
      "execution_count": null,
      "outputs": []
    },
    {
      "cell_type": "code",
      "source": [
        "#B)cambia el primer elemento de la lista ubicada en la posición 2.\n",
        "tupla = (1,True,['a','b','c'], \"hola\")\n",
        "\n",
        "tupla[2][0] = 'b'   #[2] hace referencia al elemento de la posición 2 de la tupla y el [0] es el elemento de la posición 0 de la lista.\n",
        "\n",
        "print(tupla)"
      ],
      "metadata": {
        "colab": {
          "base_uri": "https://localhost:8080/"
        },
        "id": "OWhEN_Jk5JFy",
        "outputId": "167b181a-e49c-46ed-ece7-28be9dc174f3"
      },
      "execution_count": null,
      "outputs": [
        {
          "output_type": "stream",
          "name": "stdout",
          "text": [
            "(1, True, ['b', 'b', 'c'], 'hola')\n"
          ]
        }
      ]
    },
    {
      "cell_type": "markdown",
      "source": [
        "Dada la siguiente estructura: lista=[1,True,['a','b','c'], \"hola\"]. \n",
        "Ejecutar la siguientes sentencias y describir los resultados.\n",
        "\n",
        "a) print (lista[2])\n",
        "\n",
        "b) print (lista [4])\n",
        "\n",
        "c) lista.append (False)\n",
        "\n",
        "print (lista)"
      ],
      "metadata": {
        "id": "z4MpJqaQ5J5h"
      }
    },
    {
      "cell_type": "code",
      "source": [
        "#A) Imprime lo que está en la posición 2 de la lista)\n",
        "lista = [1,True,['a','b','c'], \"hola\"]\n",
        "print (lista[2])"
      ],
      "metadata": {
        "id": "9omQrnh_5KGa",
        "colab": {
          "base_uri": "https://localhost:8080/"
        },
        "outputId": "d623ae80-70e5-4646-8329-4d92ff859573"
      },
      "execution_count": null,
      "outputs": [
        {
          "output_type": "stream",
          "name": "stdout",
          "text": [
            "['a', 'b', 'c']\n"
          ]
        }
      ]
    },
    {
      "cell_type": "code",
      "source": [
        "#B) Este programa da error porque no existe, en esta lista, un elemento en la posición 4(que piden imprimir)\n",
        "lista = [1,True,['a','b','c'], \"hola\"]\n",
        "print (lista [4])"
      ],
      "metadata": {
        "id": "fjkBU2AjHwGC"
      },
      "execution_count": null,
      "outputs": []
    },
    {
      "cell_type": "code",
      "source": [
        "#C) Se agrega/adiciona a la lista el elemento \"False\"\n",
        "lista = [1,True,['a','b','c'], \"hola\"]\n",
        "lista.append (False) \n",
        "print (lista)"
      ],
      "metadata": {
        "colab": {
          "base_uri": "https://localhost:8080/"
        },
        "id": "fPzqxCLIHwRw",
        "outputId": "49550a7b-1d06-4bfc-d3a0-69436fcb6e20"
      },
      "execution_count": null,
      "outputs": [
        {
          "output_type": "stream",
          "name": "stdout",
          "text": [
            "[1, True, ['a', 'b', 'c'], 'hola', False]\n"
          ]
        }
      ]
    },
    {
      "cell_type": "markdown",
      "source": [
        "Dada la siguiente estructura, ejecutá la siguientes sentencias y describí los resultados.\n",
        "\n",
        "lista=[1,True,['a','b','c'], \"hola\"]\n",
        "\n",
        "del lista[2]\n",
        "\n",
        "print (lista)"
      ],
      "metadata": {
        "id": "Bsj_mjau5WIa"
      }
    },
    {
      "cell_type": "code",
      "source": [
        "lista=[1,True,['a','b','c'], \"hola\"]\n",
        "#elimina lo que tiene la lista en la posición 2.\n",
        "del lista[2]\n",
        "\n",
        "print (lista)"
      ],
      "metadata": {
        "id": "cac11S5P5a6h"
      },
      "execution_count": null,
      "outputs": []
    },
    {
      "cell_type": "markdown",
      "source": [
        "Dada la siguiente información, elija una estructura de datos que permita guardarla adecuadamente\n",
        "\n",
        "● Guerra del Peloponeso 431 a.C\n",
        "\n",
        "● Revolución de Mayo 1810 d.C\n",
        "\n",
        "● Llegada de los españoles a América 1492 d.C\n",
        "\n",
        "● Comienzo de la construcción de la gran Muralla China 214 a.C"
      ],
      "metadata": {
        "id": "q-4ku0tE5bCy"
      }
    },
    {
      "cell_type": "code",
      "source": [
        "dato1 = 'Guerra del Peloponeso 431 a.C'\n",
        "dato2 = 'Comienzo de la construcción de la gran Muralla China 214 a.C'\n",
        "dato3 = 'Revolución de Mayo 1810 d.C'\n",
        "dato4 ='Llegada de los españoles a América 1492 d.C'\n",
        "acontecimientos = (dato1, dato2, dato3, dato4)\n",
        "print(acontecimientos)\n"
      ],
      "metadata": {
        "id": "puExNfLw5fxC"
      },
      "execution_count": null,
      "outputs": []
    }
  ]
}